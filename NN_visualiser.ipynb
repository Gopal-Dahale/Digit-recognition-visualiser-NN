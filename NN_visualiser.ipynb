{
 "cells": [
  {
   "cell_type": "markdown",
   "metadata": {},
   "source": [
    "## Importing Libraries"
   ]
  },
  {
   "cell_type": "code",
   "execution_count": 10,
   "metadata": {
    "_cell_guid": "b1076dfc-b9ad-4769-8c92-a6c4dae69d19",
    "_uuid": "8f2839f25d086af736a60e9eeb907d3b93b6e0e5"
   },
   "outputs": [],
   "source": [
    "%matplotlib inline\n",
    "\n",
    "import tensorflow as tf\n",
    "import numpy as np\n",
    "import matplotlib.pyplot as plt"
   ]
  },
  {
   "cell_type": "markdown",
   "metadata": {},
   "source": [
    "## Datasets from mnist"
   ]
  },
  {
   "cell_type": "code",
   "execution_count": 22,
   "metadata": {
    "_cell_guid": "79c7e3d0-c299-4dcb-8224-4455121ee9b0",
    "_uuid": "d629ff2d2480ee46fbb7e2d37f6b5fab8052498a"
   },
   "outputs": [],
   "source": [
    "(x_train, y_train), (x_test,y_test) = tf.keras.datasets.mnist.load_data()"
   ]
  },
  {
   "cell_type": "markdown",
   "metadata": {},
   "source": [
    "## Plot the first 10 examples from training set"
   ]
  },
  {
   "cell_type": "code",
   "execution_count": 23,
   "metadata": {},
   "outputs": [
    {
     "data": {
      "image/png": "[encoded data removed]",
      "text/plain": [
       "<Figure size 720x1440 with 10 Axes>"
      ]
     },
     "metadata": {},
     "output_type": "display_data"
    }
   ],
   "source": [
    "plt.figure(figsize = (10,20))\n",
    "\n",
    "for i in range(0,10):\n",
    "    plt.subplot(10,4,i+1)\n",
    "    plt.imshow(x_train[i],cmap = \"binary\")\n",
    "    plt.xlabel(str(y_train[i]))\n",
    "    plt.xticks([])\n",
    "    plt.yticks([])\n",
    "plt.show()"
   ]
  },
  {
   "cell_type": "markdown",
   "metadata": {},
   "source": [
    "## Normalising the data"
   ]
  },
  {
   "cell_type": "code",
   "execution_count": 24,
   "metadata": {},
   "outputs": [
    {
     "name": "stdout",
     "output_type": "stream",
     "text": [
      "x_train (60000, 28, 28)\n",
      "y_train (60000,)\n",
      "x_test (10000, 28, 28)\n",
      "y_test (10000,)\n",
      "(60000, 784)\n",
      "(10000, 784)\n"
     ]
    }
   ],
   "source": [
    "# size of data\n",
    "print(\"x_train\",x_train.shape)\n",
    "print(\"y_train\",y_train.shape)\n",
    "print(\"x_test\",x_test.shape)\n",
    "print(\"y_test\",y_test.shape)\n",
    "\n",
    "# In the training set we have 60000 examples and in the test set we have 10000 examples\n",
    "# Each example is an array of 28 x 28 which is the size of the image\n",
    "\n",
    "# reshape the data to feature vector of size (28 x 28,1) for each example\n",
    "x_train = np.reshape(x_train,(x_train.shape[0], x_train.shape[1]*x_train.shape[2]))\n",
    "x_test = np.reshape(x_test,(x_test.shape[0], x_test.shape[1]*x_test.shape[2]))\n",
    "\n",
    "print(x_train.shape)\n",
    "print(x_test.shape)\n",
    "\n",
    "# normalisation\n",
    "# each value in the array is between 0 to 255\n",
    "# we divide each value by 255 to get a value between 0 and 1\n",
    "\n",
    "x_train = x_train / 255\n",
    "x_test = x_test / 255"
   ]
  },
  {
   "cell_type": "markdown",
   "metadata": {},
   "source": [
    "## Creating a NN model "
   ]
  },
  {
   "cell_type": "code",
   "execution_count": 26,
   "metadata": {},
   "outputs": [],
   "source": [
    "# two hidden layers with 32 units each and tanh as activation function\n",
    "# softmax is used for output layer\n",
    "# 10 units are present in output layer\n",
    "model  = tf.keras.models.Sequential([\n",
    "    tf.keras.layers.Dense(32, activation = 'tanh' , input_shape =(784,)),\n",
    "    tf.keras.layers.Dense(32, activation = 'tanh'),\n",
    "    tf.keras.layers.Dense(10, activation = 'softmax')\n",
    "])\n",
    "\n",
    "model.compile(\n",
    "    loss = 'sparse_categorical_crossentropy',\n",
    "    optimizer = 'adam',\n",
    "    metrics = ['accuracy']\n",
    ")"
   ]
  },
  {
   "cell_type": "markdown",
   "metadata": {},
   "source": [
    "## Training the model"
   ]
  },
  {
   "cell_type": "code",
   "execution_count": 27,
   "metadata": {},
   "outputs": [
    {
     "name": "stdout",
     "output_type": "stream",
     "text": [
      "Epoch 1/30\n",
      "59/59 - 1s - loss: 1.2402 - accuracy: 0.7051 - val_loss: 0.7095 - val_accuracy: 0.8598\n",
      "Epoch 2/30\n",
      "59/59 - 0s - loss: 0.5527 - accuracy: 0.8786 - val_loss: 0.4269 - val_accuracy: 0.9012\n",
      "Epoch 3/30\n",
      "59/59 - 0s - loss: 0.3804 - accuracy: 0.9046 - val_loss: 0.3313 - val_accuracy: 0.9131\n",
      "Epoch 4/30\n",
      "59/59 - 0s - loss: 0.3092 - accuracy: 0.9182 - val_loss: 0.2854 - val_accuracy: 0.9212\n",
      "Epoch 5/30\n",
      "59/59 - 0s - loss: 0.2687 - accuracy: 0.9271 - val_loss: 0.2537 - val_accuracy: 0.9282\n",
      "Epoch 6/30\n",
      "59/59 - 0s - loss: 0.2402 - accuracy: 0.9347 - val_loss: 0.2337 - val_accuracy: 0.9319\n",
      "Epoch 7/30\n",
      "59/59 - 0s - loss: 0.2195 - accuracy: 0.9392 - val_loss: 0.2165 - val_accuracy: 0.9369\n",
      "Epoch 8/30\n",
      "59/59 - 0s - loss: 0.2022 - accuracy: 0.9437 - val_loss: 0.2016 - val_accuracy: 0.9406\n",
      "Epoch 9/30\n",
      "59/59 - 0s - loss: 0.1870 - accuracy: 0.9479 - val_loss: 0.1878 - val_accuracy: 0.9438\n",
      "Epoch 10/30\n",
      "59/59 - 0s - loss: 0.1752 - accuracy: 0.9509 - val_loss: 0.1782 - val_accuracy: 0.9465\n",
      "Epoch 11/30\n",
      "59/59 - 0s - loss: 0.1644 - accuracy: 0.9536 - val_loss: 0.1701 - val_accuracy: 0.9490\n",
      "Epoch 12/30\n",
      "59/59 - 0s - loss: 0.1539 - accuracy: 0.9565 - val_loss: 0.1626 - val_accuracy: 0.9502\n",
      "Epoch 13/30\n",
      "59/59 - 0s - loss: 0.1457 - accuracy: 0.9585 - val_loss: 0.1570 - val_accuracy: 0.9532\n",
      "Epoch 14/30\n",
      "59/59 - 0s - loss: 0.1374 - accuracy: 0.9612 - val_loss: 0.1492 - val_accuracy: 0.9546\n",
      "Epoch 15/30\n",
      "59/59 - 0s - loss: 0.1303 - accuracy: 0.9629 - val_loss: 0.1454 - val_accuracy: 0.9559\n",
      "Epoch 16/30\n",
      "59/59 - 0s - loss: 0.1239 - accuracy: 0.9653 - val_loss: 0.1420 - val_accuracy: 0.9572\n",
      "Epoch 17/30\n",
      "59/59 - 0s - loss: 0.1182 - accuracy: 0.9668 - val_loss: 0.1364 - val_accuracy: 0.9594\n",
      "Epoch 18/30\n",
      "59/59 - 0s - loss: 0.1128 - accuracy: 0.9680 - val_loss: 0.1342 - val_accuracy: 0.9582\n",
      "Epoch 19/30\n",
      "59/59 - 1s - loss: 0.1079 - accuracy: 0.9696 - val_loss: 0.1305 - val_accuracy: 0.9604\n",
      "Epoch 20/30\n",
      "59/59 - 1s - loss: 0.1035 - accuracy: 0.9708 - val_loss: 0.1279 - val_accuracy: 0.9607\n",
      "Epoch 21/30\n",
      "59/59 - 1s - loss: 0.0997 - accuracy: 0.9721 - val_loss: 0.1272 - val_accuracy: 0.9618\n",
      "Epoch 22/30\n",
      "59/59 - 1s - loss: 0.0952 - accuracy: 0.9734 - val_loss: 0.1248 - val_accuracy: 0.9630\n",
      "Epoch 23/30\n",
      "59/59 - 1s - loss: 0.0923 - accuracy: 0.9743 - val_loss: 0.1228 - val_accuracy: 0.9633\n",
      "Epoch 24/30\n",
      "59/59 - 1s - loss: 0.0882 - accuracy: 0.9754 - val_loss: 0.1225 - val_accuracy: 0.9631\n",
      "Epoch 25/30\n",
      "59/59 - 1s - loss: 0.0849 - accuracy: 0.9768 - val_loss: 0.1210 - val_accuracy: 0.9643\n",
      "Epoch 26/30\n",
      "59/59 - 1s - loss: 0.0820 - accuracy: 0.9775 - val_loss: 0.1161 - val_accuracy: 0.9654\n",
      "Epoch 27/30\n",
      "59/59 - 1s - loss: 0.0792 - accuracy: 0.9782 - val_loss: 0.1188 - val_accuracy: 0.9635\n",
      "Epoch 28/30\n",
      "59/59 - 1s - loss: 0.0767 - accuracy: 0.9786 - val_loss: 0.1171 - val_accuracy: 0.9645\n",
      "Epoch 29/30\n",
      "59/59 - 0s - loss: 0.0740 - accuracy: 0.9794 - val_loss: 0.1142 - val_accuracy: 0.9647\n",
      "Epoch 30/30\n",
      "59/59 - 0s - loss: 0.0706 - accuracy: 0.9813 - val_loss: 0.1166 - val_accuracy: 0.9653\n"
     ]
    }
   ],
   "source": [
    "_ = model.fit(\n",
    "    x_train,y_train,\n",
    "    validation_data = (x_test,y_test),\n",
    "    epochs = 30, batch_size = 1024,\n",
    "    verbose = 2\n",
    ")"
   ]
  },
  {
   "cell_type": "markdown",
   "metadata": {},
   "source": [
    "## Save the NN model"
   ]
  },
  {
   "cell_type": "code",
   "execution_count": 29,
   "metadata": {},
   "outputs": [],
   "source": [
    "model.save('model.h5')"
   ]
  },
  {
   "cell_type": "markdown",
   "metadata": {},
   "source": [
    "## ML server"
   ]
  },
  {
   "cell_type": "code",
   "execution_count": 32,
   "metadata": {},
   "outputs": [
    {
     "name": "stdout",
     "output_type": "stream",
     "text": [
      "Overwriting ml_server.py\n"
     ]
    }
   ],
   "source": [
    "%%writefile ml_server.py\n",
    "\n",
    "# creating a basic flask server\n",
    "\n",
    "import json\n",
    "import tensorflow as tf\n",
    "import numpy as np\n",
    "import random\n",
    "\n",
    "from flask import Flask, request\n",
    "\n",
    "app = Flask(__name__)\n",
    "\n",
    "model = tf.keras.models.load_model('model.h5')\n",
    "\n",
    "# feature model will take the input same as 'model' but give the output of all layers\n",
    "model = tf.keras.models.load_model('model.h5')\n",
    "feature_model = tf.keras.models.Model(\n",
    "    model.inputs,\n",
    "    [layer.output for layer in model.layers]\n",
    ")\n",
    "\n",
    "_ , (x_test, _) = tf.keras.datasets.mnist.load_data()\n",
    "x_test = x_test/ 255\n",
    "\n",
    "def get_prediction():\n",
    "    index = np.random.choice(x_test.shape[0])\n",
    "    image = x_test[index, :,:]\n",
    "    image_arr = np.reshape(image,(1,x_test.shape[1]*x_test.shape[2]))\n",
    "    return feature_model.predict((image_arr)), image\n",
    "\n",
    "\n",
    "@app.route('/', methods = ['GET','POST'])\n",
    "\n",
    "def index():\n",
    "    if request.method == 'POST':\n",
    "        preds, image = get_prediction()\n",
    "        final_preds = [p.tolist() for p in preds]\n",
    "        return json.dumps({\n",
    "            'prediction': final_preds,\n",
    "            'image': image.tolist()\n",
    "        })\n",
    "    return \"Welcome to ML server\"\n",
    "\n",
    "if __name__ == '__main__':\n",
    "    app.run()\n",
    "\n"
   ]
  },
  {
   "cell_type": "markdown",
   "metadata": {},
   "source": [
    "## Streamlit web application"
   ]
  },
  {
   "cell_type": "code",
   "execution_count": 33,
   "metadata": {},
   "outputs": [
    {
     "name": "stdout",
     "output_type": "stream",
     "text": [
      "Overwriting app.py\n"
     ]
    }
   ],
   "source": [
    "%%writefile app.py\n",
    "\n",
    "import streamlit as st\n",
    "import json\n",
    "import requests\n",
    "import matplotlib.pyplot as plt\n",
    "import numpy as np\n",
    "\n",
    "# use streamlit run app.py to run the app\n",
    "\n",
    "URI = 'http://127.0.0.1:5000/'\n",
    "\n",
    "st.title('Neural Network Visualiser')\n",
    "st.sidebar.markdown(\"## Input Image\")\n",
    "\n",
    "if st.button('Get random prediction'):\n",
    "    response = requests.post(URI, data={})\n",
    "    response = json.loads(response.text)\n",
    "    preds = response.get('prediction')\n",
    "    image = response.get('image')\n",
    "    image = np.reshape(image,(28,28))\n",
    "    \n",
    "    st.sidebar.image(image,width = 150)\n",
    "    \n",
    "    for layer, p in enumerate(preds):\n",
    "        numbers = np.squeeze(np.array(p))\n",
    "        plt.figure(figsize = (32,4))\n",
    "        \n",
    "        # output layer\n",
    "        if layer == 2:\n",
    "            row = 1\n",
    "            col = 10\n",
    "        \n",
    "        # hidden layers\n",
    "        else: \n",
    "            row = 2\n",
    "            col = 16\n",
    "        \n",
    "        for i, number in enumerate(numbers):\n",
    "            plt.subplot(row,col, i+1)\n",
    "            plt.imshow(number * np.ones((8,8,3)).astype('float32'))\n",
    "            plt.xticks([])\n",
    "            plt.yticks([])\n",
    "            \n",
    "            if layer == 2:\n",
    "                plt.xlabel(str(i), fontsize  = 40)\n",
    "        \n",
    "        plt.subplots_adjust(wspace = 0.05, hspace = 0.05)\n",
    "        plt.tight_layout()\n",
    "        st.text('Layer {}'.format(layer+1))\n",
    "        st.pyplot()"
   ]
  },
  {
   "cell_type": "code",
   "execution_count": null,
   "metadata": {},
   "outputs": [],
   "source": []
  }
 ],
 "metadata": {
  "kernelspec": {
   "display_name": "Python 3",
   "language": "python",
   "name": "python3"
  },
  "language_info": {
   "codemirror_mode": {
    "name": "ipython",
    "version": 3
   },
   "file_extension": ".py",
   "mimetype": "text/x-python",
   "name": "python",
   "nbconvert_exporter": "python",
   "pygments_lexer": "ipython3",
   "version": "3.7.7"
  },
  "toc": {
   "base_numbering": 1,
   "nav_menu": {},
   "number_sections": true,
   "sideBar": true,
   "skip_h1_title": false,
   "title_cell": "Table of Contents",
   "title_sidebar": "Contents",
   "toc_cell": false,
   "toc_position": {},
   "toc_section_display": true,
   "toc_window_display": false
  }
 },
 "nbformat": 4,
 "nbformat_minor": 4
}
